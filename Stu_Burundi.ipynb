{
 "cells": [
  {
   "cell_type": "code",
   "execution_count": 1,
   "metadata": {},
   "outputs": [],
   "source": [
    "# Dependencies\n",
    "import requests\n",
    "from config import api_key"
   ]
  },
  {
   "cell_type": "code",
   "execution_count": 2,
   "metadata": {},
   "outputs": [],
   "source": [
    "# Build query URL and request your results in Celsius\n",
    "base_url = 'https://api.openweathermap.org/data/2.5/weather?'\n",
    "city = \"Bujumbura\"\n",
    "\n",
    "url = base_url+'q='+city+'&appid='+api_key\n",
    "# Get weather data\n",
    "\n",
    "response = requests.get(url)\n",
    "\n",
    "\n",
    "weather_json=response.json()\n"
   ]
  },
  {
   "cell_type": "code",
   "execution_count": 5,
   "metadata": {},
   "outputs": [
    {
     "name": "stdout",
     "output_type": "stream",
     "text": [
      "{\n",
      "   \"coord\": {\n",
      "      \"lon\": 29.3644,\n",
      "      \"lat\": -3.3822\n",
      "   },\n",
      "   \"weather\": [\n",
      "      {\n",
      "         \"id\": 804,\n",
      "         \"main\": \"Clouds\",\n",
      "         \"description\": \"overcast clouds\",\n",
      "         \"icon\": \"04n\"\n",
      "      }\n",
      "   ],\n",
      "   \"base\": \"stations\",\n",
      "   \"main\": {\n",
      "      \"temp\": 294.55,\n",
      "      \"feels_like\": 294.99,\n",
      "      \"temp_min\": 294.55,\n",
      "      \"temp_max\": 294.55,\n",
      "      \"pressure\": 1013,\n",
      "      \"humidity\": 86,\n",
      "      \"sea_level\": 1013,\n",
      "      \"grnd_level\": 924\n",
      "   },\n",
      "   \"visibility\": 10000,\n",
      "   \"wind\": {\n",
      "      \"speed\": 0.5,\n",
      "      \"deg\": 5,\n",
      "      \"gust\": 1.46\n",
      "   },\n",
      "   \"clouds\": {\n",
      "      \"all\": 99\n",
      "   },\n",
      "   \"dt\": 1650583081,\n",
      "   \"sys\": {\n",
      "      \"country\": \"BI\",\n",
      "      \"sunrise\": 1650600025,\n",
      "      \"sunset\": 1650643283\n",
      "   },\n",
      "   \"timezone\": 7200,\n",
      "   \"id\": 425378,\n",
      "   \"name\": \"Bujumbura\",\n",
      "   \"cod\": 200\n",
      "}\n"
     ]
    }
   ],
   "source": [
    "# Get temperature from JSON response\n",
    "import json\n",
    "\n",
    "print(json.dumps(weather_json, indent=3))"
   ]
  },
  {
   "cell_type": "code",
   "execution_count": 6,
   "metadata": {},
   "outputs": [
    {
     "data": {
      "text/plain": [
       "294.55"
      ]
     },
     "execution_count": 6,
     "metadata": {},
     "output_type": "execute_result"
    }
   ],
   "source": [
    "# Report temperature\n",
    "temp_c = weather_json['main']['temp']\n",
    "temp_c"
   ]
  },
  {
   "cell_type": "code",
   "execution_count": 8,
   "metadata": {},
   "outputs": [
    {
     "name": "stdout",
     "output_type": "stream",
     "text": [
      "The temperature if Bujumbura is 294.55 C.\n"
     ]
    }
   ],
   "source": [
    "print(f'The temperature if {city} is {temp_c} C.')"
   ]
  },
  {
   "cell_type": "code",
   "execution_count": null,
   "metadata": {},
   "outputs": [],
   "source": []
  },
  {
   "cell_type": "code",
   "execution_count": null,
   "metadata": {},
   "outputs": [],
   "source": []
  },
  {
   "cell_type": "code",
   "execution_count": null,
   "metadata": {},
   "outputs": [],
   "source": []
  },
  {
   "cell_type": "code",
   "execution_count": null,
   "metadata": {},
   "outputs": [],
   "source": []
  },
  {
   "cell_type": "code",
   "execution_count": null,
   "metadata": {},
   "outputs": [],
   "source": []
  },
  {
   "cell_type": "code",
   "execution_count": null,
   "metadata": {},
   "outputs": [],
   "source": []
  }
 ],
 "metadata": {
  "kernelspec": {
   "display_name": "Python 3",
   "language": "python",
   "name": "python3"
  },
  "language_info": {
   "codemirror_mode": {
    "name": "ipython",
    "version": 3
   },
   "file_extension": ".py",
   "mimetype": "text/x-python",
   "name": "python",
   "nbconvert_exporter": "python",
   "pygments_lexer": "ipython3",
   "version": "3.7.6"
  },
  "varInspector": {
   "cols": {
    "lenName": 16,
    "lenType": 16,
    "lenVar": 40
   },
   "kernels_config": {
    "python": {
     "delete_cmd_postfix": "",
     "delete_cmd_prefix": "del ",
     "library": "var_list.py",
     "varRefreshCmd": "print(var_dic_list())"
    },
    "r": {
     "delete_cmd_postfix": ") ",
     "delete_cmd_prefix": "rm(",
     "library": "var_list.r",
     "varRefreshCmd": "cat(var_dic_list()) "
    }
   },
   "types_to_exclude": [
    "module",
    "function",
    "builtin_function_or_method",
    "instance",
    "_Feature"
   ],
   "window_display": false
  }
 },
 "nbformat": 4,
 "nbformat_minor": 2
}
